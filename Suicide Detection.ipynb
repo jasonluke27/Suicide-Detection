{
 "cells": [
  {
   "cell_type": "markdown",
   "id": "25bd561b-e214-4502-91db-313c6e709ac8",
   "metadata": {},
   "source": [
    "# Suicide Detection Project"
   ]
  },
  {
   "cell_type": "code",
   "execution_count": 85,
   "id": "9f5b1a9c-6698-4acb-b8d7-773f26412952",
   "metadata": {},
   "outputs": [],
   "source": [
    "import pandas as pd\n",
    "import numpy as np\n",
    "import seaborn as sns\n",
    "import matplotlib.pyplot as plt"
   ]
  },
  {
   "cell_type": "code",
   "execution_count": 61,
   "id": "f41794b7-9458-44b5-8548-595c5a0bbe1a",
   "metadata": {},
   "outputs": [],
   "source": [
    "data = pd.read_csv('file1.csv')"
   ]
  },
  {
   "cell_type": "markdown",
   "id": "211f496c-3975-4cfc-90c9-edea4c598112",
   "metadata": {},
   "source": [
    "## Load The Dataset"
   ]
  },
  {
   "cell_type": "code",
   "execution_count": 62,
   "id": "d2452730-c8cb-4f20-92ee-e8f176c11ca8",
   "metadata": {},
   "outputs": [
    {
     "data": {
      "text/html": [
       "<div>\n",
       "<style scoped>\n",
       "    .dataframe tbody tr th:only-of-type {\n",
       "        vertical-align: middle;\n",
       "    }\n",
       "\n",
       "    .dataframe tbody tr th {\n",
       "        vertical-align: top;\n",
       "    }\n",
       "\n",
       "    .dataframe thead th {\n",
       "        text-align: right;\n",
       "    }\n",
       "</style>\n",
       "<table border=\"1\" class=\"dataframe\">\n",
       "  <thead>\n",
       "    <tr style=\"text-align: right;\">\n",
       "      <th></th>\n",
       "      <th>Unnamed: 0</th>\n",
       "      <th>text</th>\n",
       "      <th>class</th>\n",
       "    </tr>\n",
       "  </thead>\n",
       "  <tbody>\n",
       "    <tr>\n",
       "      <th>0</th>\n",
       "      <td>74414</td>\n",
       "      <td>dont know7 month self harm free urg get strong...</td>\n",
       "      <td>suicide</td>\n",
       "    </tr>\n",
       "    <tr>\n",
       "      <th>1</th>\n",
       "      <td>149516</td>\n",
       "      <td>start becom rich start compani becom 16 afford...</td>\n",
       "      <td>non-suicide</td>\n",
       "    </tr>\n",
       "    <tr>\n",
       "      <th>2</th>\n",
       "      <td>12484</td>\n",
       "      <td>poem haiku umegamedev hi hello hello stop fuck...</td>\n",
       "      <td>non-suicide</td>\n",
       "    </tr>\n",
       "    <tr>\n",
       "      <th>3</th>\n",
       "      <td>14043</td>\n",
       "      <td>ive honestli got idea anymoreit feel everyon f...</td>\n",
       "      <td>suicide</td>\n",
       "    </tr>\n",
       "    <tr>\n",
       "      <th>4</th>\n",
       "      <td>30673</td>\n",
       "      <td>ever cri like think unfair life cri cant cri e...</td>\n",
       "      <td>non-suicide</td>\n",
       "    </tr>\n",
       "  </tbody>\n",
       "</table>\n",
       "</div>"
      ],
      "text/plain": [
       "   Unnamed: 0                                               text        class\n",
       "0       74414  dont know7 month self harm free urg get strong...      suicide\n",
       "1      149516  start becom rich start compani becom 16 afford...  non-suicide\n",
       "2       12484  poem haiku umegamedev hi hello hello stop fuck...  non-suicide\n",
       "3       14043  ive honestli got idea anymoreit feel everyon f...      suicide\n",
       "4       30673  ever cri like think unfair life cri cant cri e...  non-suicide"
      ]
     },
     "execution_count": 62,
     "metadata": {},
     "output_type": "execute_result"
    }
   ],
   "source": [
    "data.head()"
   ]
  },
  {
   "cell_type": "markdown",
   "id": "9ee9cf71-10f7-4a2e-a198-1c3d3cccc79e",
   "metadata": {},
   "source": [
    "## Exploratory Data Analysis"
   ]
  },
  {
   "cell_type": "code",
   "execution_count": 63,
   "id": "16de4e1f-facf-4cfb-b6cf-fce351671e19",
   "metadata": {},
   "outputs": [
    {
     "name": "stdout",
     "output_type": "stream",
     "text": [
      "<class 'pandas.core.frame.DataFrame'>\n",
      "RangeIndex: 10000 entries, 0 to 9999\n",
      "Data columns (total 3 columns):\n",
      " #   Column      Non-Null Count  Dtype \n",
      "---  ------      --------------  ----- \n",
      " 0   Unnamed: 0  10000 non-null  int64 \n",
      " 1   text        9999 non-null   object\n",
      " 2   class       10000 non-null  object\n",
      "dtypes: int64(1), object(2)\n",
      "memory usage: 234.5+ KB\n"
     ]
    }
   ],
   "source": [
    "data.info()"
   ]
  },
  {
   "cell_type": "markdown",
   "id": "45ea5f44-bd4e-4148-8107-11d4d2951ec8",
   "metadata": {},
   "source": [
    "### The 'Unnamed: 0' column is not needed for our models predictions so we can drop it."
   ]
  },
  {
   "cell_type": "code",
   "execution_count": 64,
   "id": "a8003da5-4f57-4ce4-8dfa-b819cf71e958",
   "metadata": {},
   "outputs": [],
   "source": [
    "data = data.drop('Unnamed: 0', axis= 1)"
   ]
  },
  {
   "cell_type": "markdown",
   "id": "61a88216-e075-4071-bd9a-6560acfea830",
   "metadata": {},
   "source": [
    "### Identify and Drop rows with missing values"
   ]
  },
  {
   "cell_type": "code",
   "execution_count": 65,
   "id": "16ddb3cf-0270-44de-a9dd-3b066f2a7f42",
   "metadata": {},
   "outputs": [
    {
     "data": {
      "text/plain": [
       "text     1\n",
       "class    0\n",
       "dtype: int64"
      ]
     },
     "execution_count": 65,
     "metadata": {},
     "output_type": "execute_result"
    }
   ],
   "source": [
    "data.isna().sum()"
   ]
  },
  {
   "cell_type": "code",
   "execution_count": 66,
   "id": "18df8895-a040-4bda-bd11-9d89e2108323",
   "metadata": {},
   "outputs": [],
   "source": [
    "data.dropna(subset=['text'], inplace=True)"
   ]
  },
  {
   "cell_type": "code",
   "execution_count": 67,
   "id": "c65f0fe2-ecdd-4f4e-8139-511215a7407d",
   "metadata": {},
   "outputs": [
    {
     "data": {
      "text/plain": [
       "text     0\n",
       "class    0\n",
       "dtype: int64"
      ]
     },
     "execution_count": 67,
     "metadata": {},
     "output_type": "execute_result"
    }
   ],
   "source": [
    "data.isna().sum()"
   ]
  },
  {
   "cell_type": "markdown",
   "id": "e41663c4-146d-4b68-bce2-cc89478d32c3",
   "metadata": {},
   "source": [
    "### identify and Drop Duplicate Rows"
   ]
  },
  {
   "cell_type": "code",
   "execution_count": 68,
   "id": "d593786c-f58f-4d75-8119-d8892800248a",
   "metadata": {},
   "outputs": [
    {
     "data": {
      "text/plain": [
       "1"
      ]
     },
     "execution_count": 68,
     "metadata": {},
     "output_type": "execute_result"
    }
   ],
   "source": [
    "data.duplicated().sum()"
   ]
  },
  {
   "cell_type": "code",
   "execution_count": 69,
   "id": "6d3fdccf-d195-4b74-b785-c410af6abf9d",
   "metadata": {},
   "outputs": [],
   "source": [
    "data.drop_duplicates(inplace=True)"
   ]
  },
  {
   "cell_type": "code",
   "execution_count": 70,
   "id": "e1de5408-d76a-4b96-8838-5812f787fa5f",
   "metadata": {},
   "outputs": [
    {
     "data": {
      "text/plain": [
       "0"
      ]
     },
     "execution_count": 70,
     "metadata": {},
     "output_type": "execute_result"
    }
   ],
   "source": [
    "data.duplicated().sum()"
   ]
  },
  {
   "cell_type": "markdown",
   "id": "a6c18902-b4cb-471c-a0c5-28c662c15863",
   "metadata": {},
   "source": [
    "### Class count distribution"
   ]
  },
  {
   "cell_type": "code",
   "execution_count": 94,
   "id": "b2462cc2-d3ea-4a8d-85ed-6cac41ff5c23",
   "metadata": {},
   "outputs": [
    {
     "data": {
      "image/png": "[encoded data removed]",
      "text/plain": [
       "<Figure size 600x300 with 1 Axes>"
      ]
     },
     "metadata": {},
     "output_type": "display_data"
    }
   ],
   "source": [
    "class_count = data['class'].value_counts()\n",
    "class_data = pd.DataFrame({'Class':class_count.index, 'Count':class_count.values})\n",
    "\n",
    "plt.figure(figsize=(6,3))\n",
    "sns.barplot(x='Class', y='Count', data=class_data, palette=['green', 'red'], hue='Class')\n",
    "plt.title('Class Count Visual Distribution')\n",
    "plt.show()"
   ]
  },
  {
   "cell_type": "code",
   "execution_count": 93,
   "id": "7c515087-fa56-4589-a1f6-24ed84a20586",
   "metadata": {},
   "outputs": [
    {
     "name": "stdout",
     "output_type": "stream",
     "text": [
      "class\n",
      "non-suicide    5047\n",
      "suicide        4951\n",
      "Name: count, dtype: int64\n"
     ]
    }
   ],
   "source": [
    "class_count = data['class'].value_counts()\n",
    "print(class_count)"
   ]
  },
  {
   "cell_type": "markdown",
   "id": "aed86da7-1d16-4a50-9988-97a57741109c",
   "metadata": {},
   "source": [
    "## Import necessary libraries"
   ]
  },
  {
   "cell_type": "code",
   "execution_count": 71,
   "id": "dcca50e9-3ddd-47e9-b541-6b44bc9c5ae7",
   "metadata": {},
   "outputs": [],
   "source": [
    "from sklearn.model_selection import train_test_split\n",
    "from sklearn.feature_extraction.text import TfidfVectorizer\n",
    "from sklearn.linear_model import LogisticRegression\n",
    "from sklearn.metrics import classification_report\n",
    "import numpy as np"
   ]
  },
  {
   "cell_type": "markdown",
   "id": "54242639-d494-46f3-9c15-a4b4bf147339",
   "metadata": {},
   "source": [
    "### Split data into training and testing sets"
   ]
  },
  {
   "cell_type": "code",
   "execution_count": 72,
   "id": "bdc27110-cf39-4c81-828b-0d45d8de4838",
   "metadata": {},
   "outputs": [],
   "source": [
    "X_train, X_test, y_train, y_test = train_test_split(data['text'], data['class'], test_size=0.2, random_state=42)"
   ]
  },
  {
   "cell_type": "markdown",
   "id": "d1cd1ad6-2d7e-456d-9994-900cc16be7ec",
   "metadata": {},
   "source": [
    "### Vectorize the text data using TF-IDF"
   ]
  },
  {
   "cell_type": "code",
   "execution_count": 73,
   "id": "c4d41bf2-c39d-49b9-a03b-413f8579eb57",
   "metadata": {},
   "outputs": [],
   "source": [
    "vectorizer = TfidfVectorizer(max_features=5000) \n",
    "X_train_vectorized = vectorizer.fit_transform(X_train.astype('U'))  # Convert to Unicode strings\n",
    "X_test_vectorized = vectorizer.transform(X_test.astype('U'))  "
   ]
  },
  {
   "cell_type": "markdown",
   "id": "e15a5018-c9ea-45e6-8eaf-462e41d3ead6",
   "metadata": {},
   "source": [
    "## Logistic Regression Prediction:"
   ]
  },
  {
   "cell_type": "code",
   "execution_count": 74,
   "id": "a7ca32a1-ffc1-43fe-815a-f5adcb722b1a",
   "metadata": {},
   "outputs": [
    {
     "name": "stdout",
     "output_type": "stream",
     "text": [
      "              precision    recall  f1-score   support\n",
      "\n",
      " non-suicide       0.90      0.93      0.91      1019\n",
      "     suicide       0.93      0.89      0.91       981\n",
      "\n",
      "    accuracy                           0.91      2000\n",
      "   macro avg       0.91      0.91      0.91      2000\n",
      "weighted avg       0.91      0.91      0.91      2000\n",
      "\n"
     ]
    }
   ],
   "source": [
    "model = LogisticRegression()\n",
    "model.fit(X_train_vectorized, y_train)\n",
    "\n",
    "# Evaluate the model\n",
    "y_pred = model.predict(X_test_vectorized)\n",
    "print(classification_report(y_test, y_pred))"
   ]
  },
  {
   "cell_type": "markdown",
   "id": "4ba78193-74a5-4759-92c8-7a626522d511",
   "metadata": {},
   "source": [
    "## Decision Tree Classifier:"
   ]
  },
  {
   "cell_type": "code",
   "execution_count": 75,
   "id": "a353ef52-282d-4362-9d2d-651241567933",
   "metadata": {},
   "outputs": [],
   "source": [
    "from sklearn.tree import DecisionTreeClassifier"
   ]
  },
  {
   "cell_type": "code",
   "execution_count": 76,
   "id": "677526c9-aab1-4968-b4ee-df30a8076042",
   "metadata": {},
   "outputs": [
    {
     "name": "stdout",
     "output_type": "stream",
     "text": [
      "              precision    recall  f1-score   support\n",
      "\n",
      " non-suicide       0.82      0.84      0.83      1019\n",
      "     suicide       0.83      0.81      0.82       981\n",
      "\n",
      "    accuracy                           0.82      2000\n",
      "   macro avg       0.83      0.82      0.82      2000\n",
      "weighted avg       0.83      0.82      0.82      2000\n",
      "\n"
     ]
    }
   ],
   "source": [
    "model = DecisionTreeClassifier()\n",
    "model.fit(X_train_vectorized, y_train)\n",
    "\n",
    "# Evaluate the model\n",
    "y_pred = model.predict(X_test_vectorized)\n",
    "print(classification_report(y_test, y_pred))"
   ]
  },
  {
   "cell_type": "markdown",
   "id": "55d5f3ff-d200-4e10-b09b-ac21e011a75d",
   "metadata": {},
   "source": [
    "## Random Forest Classifier:"
   ]
  },
  {
   "cell_type": "code",
   "execution_count": 77,
   "id": "0007d4b1-68fc-4855-a33a-93f10b5d859b",
   "metadata": {},
   "outputs": [],
   "source": [
    "from sklearn.ensemble import RandomForestClassifier"
   ]
  },
  {
   "cell_type": "code",
   "execution_count": 78,
   "id": "00e7172c-d634-4128-b585-e3b8d1e18d46",
   "metadata": {},
   "outputs": [
    {
     "name": "stdout",
     "output_type": "stream",
     "text": [
      "              precision    recall  f1-score   support\n",
      "\n",
      " non-suicide       0.89      0.89      0.89      1019\n",
      "     suicide       0.88      0.88      0.88       981\n",
      "\n",
      "    accuracy                           0.89      2000\n",
      "   macro avg       0.88      0.88      0.88      2000\n",
      "weighted avg       0.89      0.89      0.89      2000\n",
      "\n"
     ]
    }
   ],
   "source": [
    "model = RandomForestClassifier()\n",
    "model.fit(X_train_vectorized, y_train)\n",
    "\n",
    "# Evaluate the model\n",
    "y_pred = model.predict(X_test_vectorized)\n",
    "print(classification_report(y_test, y_pred))"
   ]
  },
  {
   "cell_type": "markdown",
   "id": "a40ae7c8-da41-45bd-bd25-477df88aa121",
   "metadata": {},
   "source": [
    "## Gradient Boosting Classifier:"
   ]
  },
  {
   "cell_type": "code",
   "execution_count": 81,
   "id": "fef4375c-f895-4ef3-962f-159ae1537d16",
   "metadata": {},
   "outputs": [],
   "source": [
    "from sklearn.ensemble import GradientBoostingClassifier"
   ]
  },
  {
   "cell_type": "code",
   "execution_count": 82,
   "id": "6c52ae94-6fbf-478c-8073-4ee40e4b4b20",
   "metadata": {},
   "outputs": [
    {
     "name": "stdout",
     "output_type": "stream",
     "text": [
      "              precision    recall  f1-score   support\n",
      "\n",
      " non-suicide       0.86      0.91      0.88      1019\n",
      "     suicide       0.90      0.84      0.87       981\n",
      "\n",
      "    accuracy                           0.88      2000\n",
      "   macro avg       0.88      0.88      0.88      2000\n",
      "weighted avg       0.88      0.88      0.88      2000\n",
      "\n"
     ]
    }
   ],
   "source": [
    "model = GradientBoostingClassifier()\n",
    "model.fit(X_train_vectorized, y_train)\n",
    "\n",
    "# Evaluate the model\n",
    "y_pred = model.predict(X_test_vectorized)\n",
    "print(classification_report(y_test, y_pred))"
   ]
  },
  {
   "cell_type": "markdown",
   "id": "846fce3d-93dc-4619-920d-65f470857ae4",
   "metadata": {},
   "source": [
    "## Suprisingly the Logistic Regression Model outperformed all our more advanced models."
   ]
  }
 ],
 "metadata": {
  "kernelspec": {
   "display_name": "Python 3 (ipykernel)",
   "language": "python",
   "name": "python3"
  },
  "language_info": {
   "codemirror_mode": {
    "name": "ipython",
    "version": 3
   },
   "file_extension": ".py",
   "mimetype": "text/x-python",
   "name": "python",
   "nbconvert_exporter": "python",
   "pygments_lexer": "ipython3",
   "version": "3.12.0"
  }
 },
 "nbformat": 4,
 "nbformat_minor": 5
}
